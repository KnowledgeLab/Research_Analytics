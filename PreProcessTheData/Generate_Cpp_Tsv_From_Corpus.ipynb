{
 "cells": [
  {
   "cell_type": "code",
   "execution_count": null,
   "metadata": {
    "collapsed": true
   },
   "outputs": [],
   "source": [
    "# This python script is uesd to generate the tsv file for the c++ version of AT-Model\n",
    "#\n",
    "# original format: pickle file of the corpus\n",
    "# NOTE: The corpus pickle file should be put in the corpus directory\n",
    "#       Or you can change the directory in the walk function yourself\n",
    "#\n",
    "# output file:\n",
    "#              corpus.tsv  (Input of the c++ version of AT-Model)\n",
    "#              authorIdMap.p  (Used to find the author information with the scorpus ID)\n",
    "#\n",
    "# Author: Cha Chen\n",
    "#\n",
    "# Usage: \n",
    "#         Put all the corpus file into the corpus directory (pickle)\n",
    "#         Go"
   ]
  },
  {
   "cell_type": "code",
   "execution_count": null,
   "metadata": {
    "collapsed": true
   },
   "outputs": [],
   "source": [
    "# Import all the necessary package\n",
    "# dependency: pickle, logging, numpy, matplotlib, re, nltk, ptm, json, os"
   ]
  },
  {
   "cell_type": "code",
   "execution_count": 1,
   "metadata": {
    "collapsed": false
   },
   "outputs": [],
   "source": [
    "import pickle\n",
    "import logging\n",
    "from os import walk\n",
    "import numpy as np\n",
    "import matplotlib\n",
    "import matplotlib.pyplot as plt\n",
    "import re\n",
    "from nltk.tokenize import RegexpTokenizer\n",
    "from nltk.corpus import stopwords\n",
    "stop = stopwords.words('english')\n",
    "\n",
    "tokenizer = RegexpTokenizer(r'\\w+')\n",
    "tokenizer.tokenize('Eighty-seven miles to go, yet.  Onward!')\n",
    "\n",
    "from ptm import AuthorTopicModel\n",
    "from ptm.utils import convert_cnt_to_list, get_top_words\n",
    "\n",
    "logger = logging.getLogger('AuthorTopicModel')\n",
    "logger.propagate=False\n",
    "import json\n",
    "\n",
    "%matplotlib inline"
   ]
  },
  {
   "cell_type": "code",
   "execution_count": null,
   "metadata": {
    "collapsed": true
   },
   "outputs": [],
   "source": [
    "# read the file"
   ]
  },
  {
   "cell_type": "code",
   "execution_count": 2,
   "metadata": {
    "collapsed": true
   },
   "outputs": [],
   "source": [
    "# read all the corpus file from the corpus directory\n",
    "# You can change the directory here\n",
    "files = []\n",
    "for (dirpath, dirnames, filenames) in walk('corpus'): # Change in diretory name in walk function\n",
    "    files.extend(filenames)\n",
    "    break"
   ]
  },
  {
   "cell_type": "code",
   "execution_count": 3,
   "metadata": {
    "collapsed": false
   },
   "outputs": [],
   "source": [
    "# define a function to extract all the necessary information from the raw text file \n",
    "def getDataFromDocument(document_raw,doc,doc_author,authorList,wordList,authorMap,authorIdMap):\n",
    "    count = len(wordList)\n",
    "    count_author = len(authorList)\n",
    "    # get the word list result\n",
    "    abstractExistFlag = False\n",
    "    if document_raw.get('abstract',-1) != -1:\n",
    "        mayBeSentence = document_raw.get('abstract')\n",
    "        if type(mayBeSentence) != str:\n",
    "            if type(mayBeSentence) == list:\n",
    "                sentence = ''\n",
    "                for tempSentence in mayBeSentence:\n",
    "                    if type(tempSentence) == dict:\n",
    "                        sentence = tempSentence.get('#text')\n",
    "                    else:\n",
    "                        sentence = sentence + tempSentence\n",
    "                    docWordList = tokenizer.tokenize(sentence)\n",
    "            else:\n",
    "                if mayBeSentence.get('#text'):\n",
    "                    sentence = mayBeSentence.get('#text')\n",
    "                    docWordList = tokenizer.tokenize(sentence)\n",
    "        else:\n",
    "            sentence = mayBeSentence\n",
    "            docWordList = tokenizer.tokenize(sentence)\n",
    "        abstractExistFlag = True\n",
    "    else:\n",
    "        docWordList = []\n",
    "\n",
    "    local_doc_ids = {}\n",
    "\n",
    "    # remove the stop words\n",
    "    docWordList = [x.lower() for x in docWordList if x.lower() not in stop and not x.isdigit()]\n",
    "    for word in docWordList:\n",
    "        wordId = wordList.get(word, -1)\n",
    "        if wordId == -1:\n",
    "            wordList[word] = count\n",
    "            wordId = count\n",
    "            count = count + 1\n",
    "        if local_doc_ids.get(wordId,-1) == -1:\n",
    "            local_doc_ids[wordId] = 1\n",
    "        else:\n",
    "            local_doc_ids[wordId] = local_doc_ids[wordId] + 1\n",
    "\n",
    "    # get the author list result\n",
    "    local_doc_author = []\n",
    "    if document_raw.get('authors',-1) != -1:\n",
    "        docAuthorList = document_raw.get('authors')\n",
    "        abstractExistFlag = True\n",
    "    else:\n",
    "        abstractExistFlag = False\n",
    "        docAuthorList = []\n",
    "\n",
    "\n",
    "    for author in docAuthorList:\n",
    "        auid = author.get('@auid')\n",
    "        authorId = authorList.get(auid,-1)\n",
    "        if authorId == -1:\n",
    "            authorList[auid] = count_author\n",
    "            authorId = count_author\n",
    "            count_author = count_author + 1\n",
    "            authorMap[auid] = author\n",
    "            authorIdMap[auid] = author\n",
    "        local_doc_author.append(authorId)\n",
    "\n",
    "\n",
    "    if abstractExistFlag and local_doc_ids != {} and local_doc_author != []:\n",
    "        doc.append(local_doc_ids)\n",
    "        doc_author.append(local_doc_author)\n",
    "    return doc,doc_author,authorList,wordList,authorMap,authorIdMap       "
   ]
  },
  {
   "cell_type": "code",
   "execution_count": 4,
   "metadata": {
    "collapsed": true
   },
   "outputs": [],
   "source": [
    "# define a function to extract the necessary information from the pickle file\n",
    "def getDataFromCorpus(corpus_raw,doc,doc_author,authorList,wordList,authorMap,authorIdMap):\n",
    "    testCorpus = corpus_raw\n",
    "    print(len(testCorpus))\n",
    "    for i in range(len(testCorpus)):\n",
    "        # test if the corpus is str\n",
    "        if type(testCorpus[i]) == str:\n",
    "            testCorpus[i] = testCorpus[i].replace('}{','}\\r\\n{').split('\\r\\n')\n",
    "            for document in testCorpus[i]:\n",
    "                document = json.loads(document)\n",
    "                doc,doc_author,authorList,wordList,authorMap,authorIdMap = getDataFromDocument(document,doc,doc_author,authorList,wordList,authorMap,authorIdMap)\n",
    "        else:\n",
    "            doc,doc_author,authorList,wordList,authorMap,authorIdMap = getDataFromDocument(testCorpus[i],doc,doc_author,authorList,wordList,authorMap,authorIdMap)\n",
    "    return doc,doc_author,authorList,wordList,authorMap,authorIdMap "
   ]
  },
  {
   "cell_type": "code",
   "execution_count": null,
   "metadata": {
    "collapsed": false
   },
   "outputs": [],
   "source": []
  },
  {
   "cell_type": "code",
   "execution_count": 8,
   "metadata": {
    "collapsed": false
   },
   "outputs": [],
   "source": [
    "# write author Id map into the pickle file \n",
    "pickle.dump(authorIdMap,open(\"authorIdMapUChicago.p\",\"wb\"))"
   ]
  },
  {
   "cell_type": "code",
   "execution_count": 5,
   "metadata": {
    "collapsed": false
   },
   "outputs": [
    {
     "name": "stdout",
     "output_type": "stream",
     "text": [
      "start: 2010_detailed_scopus_uchicago_entry.p\n",
      "3407\n",
      "start: 2011_detailed_scopus_uchicago_entry.p\n",
      "3270\n",
      "start: 2012_detailed_scopus_uchicago_entry.p\n",
      "3298\n",
      "start: 2013_detailed_scopus_uchicago_entry.p\n",
      "3100\n",
      "start: 2014_detailed_scopus_uchicago_entry.p\n",
      "2999\n",
      "start: 2015_detailed_scopus_uchicago_entry.p\n",
      "2473\n",
      "start: 2016_detailed_scopus_uchicago_entry.p\n",
      "597\n"
     ]
    }
   ],
   "source": [
    "# read all the corpus file into the local variable\n",
    "doc = []\n",
    "doc_author = []\n",
    "authorList = {}\n",
    "authorMap = {}\n",
    "authorIdMap = {}\n",
    "wordList = {}\n",
    "count = 0\n",
    "for file in files[-7:]: # you can change the files range here\n",
    "    print('start: '+ file)\n",
    "    count = count + 1\n",
    "    testCorpus = pickle.load(open('corpus/'+file, 'rb'))\n",
    "    doc,doc_author,authorList,wordList,authorMap,authorIdMap = getDataFromCorpus(testCorpus,doc,doc_author,authorList,wordList,authorMap,authorIdMap)"
   ]
  },
  {
   "cell_type": "code",
   "execution_count": 6,
   "metadata": {
    "collapsed": false
   },
   "outputs": [],
   "source": [
    "## get the corpus format"
   ]
  },
  {
   "cell_type": "code",
   "execution_count": 7,
   "metadata": {
    "collapsed": false
   },
   "outputs": [],
   "source": [
    "doc_ids = []\n",
    "doc_cnt = []\n",
    "for i in range(len(doc)):\n",
    "    local_doc_ids = []\n",
    "    local_doc_cnt = []\n",
    "    for j in doc[i]:\n",
    "        local_doc_ids.append(j)\n",
    "        local_doc_cnt.append(doc[i][j])\n",
    "    doc_ids.append(local_doc_ids)\n",
    "    doc_cnt.append(local_doc_cnt)\n",
    "corpus = convert_cnt_to_list(doc_ids,doc_cnt)"
   ]
  },
  {
   "cell_type": "code",
   "execution_count": 8,
   "metadata": {
    "collapsed": false
   },
   "outputs": [],
   "source": [
    "n_doc = len(corpus)\n",
    "n_topic = 10\n",
    "n_author = len(authorList)\n",
    "n_voca = len(wordList)\n",
    "max_iter = 50"
   ]
  },
  {
   "cell_type": "code",
   "execution_count": 9,
   "metadata": {
    "collapsed": false
   },
   "outputs": [],
   "source": [
    "voca = []\n",
    "for i in range(len(wordList)):\n",
    "    voca.append('')\n",
    "for i in wordList:\n",
    "    voca[wordList[i]] = i"
   ]
  },
  {
   "cell_type": "code",
   "execution_count": 10,
   "metadata": {
    "collapsed": false
   },
   "outputs": [],
   "source": [
    "reverseAuthorList = {}\n",
    "for i in authorList:\n",
    "    reverseAuthorList[authorList[i]] = i"
   ]
  },
  {
   "cell_type": "code",
   "execution_count": 27,
   "metadata": {
    "collapsed": false
   },
   "outputs": [],
   "source": [
    "# write the tsv file\n",
    "f = open('corpus_uchicago_small.tsv', 'w')\n",
    "for i in range(len(corpus)):\n",
    "    # write the author\n",
    "    f.write(':'.join([reverseAuthorList[k] for k in doc_author[i]]))\n",
    "    f.write('\\t')\n",
    "    f.write(':'.join([voca[k] for k in corpus[i]]))\n",
    "    f.write('\\n')\n",
    "f.close()"
   ]
  },
  {
   "cell_type": "code",
   "execution_count": 82,
   "metadata": {
    "collapsed": false
   },
   "outputs": [
    {
     "data": {
      "text/plain": [
       "62293"
      ]
     },
     "execution_count": 82,
     "metadata": {},
     "output_type": "execute_result"
    }
   ],
   "source": [
    "# test the url function\n",
    "# NOTE: To be completed. Get the h-index from the url"
   ]
  },
  {
   "cell_type": "code",
   "execution_count": 52,
   "metadata": {
    "collapsed": true
   },
   "outputs": [],
   "source": [
    "import urllib.request\n",
    "import xml.etree.ElementTree as ET"
   ]
  },
  {
   "cell_type": "code",
   "execution_count": 53,
   "metadata": {
    "collapsed": false
   },
   "outputs": [],
   "source": [
    "test = urllib.request.urlopen(testCorpus[0]['authors'][0]['author-url']).read().decode(\"utf-8\") "
   ]
  },
  {
   "cell_type": "code",
   "execution_count": 54,
   "metadata": {
    "collapsed": false
   },
   "outputs": [],
   "source": [
    "root = ET.fromstring(test)"
   ]
  },
  {
   "cell_type": "code",
   "execution_count": 55,
   "metadata": {
    "collapsed": false
   },
   "outputs": [
    {
     "data": {
      "text/plain": [
       "'author-retrieval-response'"
      ]
     },
     "execution_count": 55,
     "metadata": {},
     "output_type": "execute_result"
    }
   ],
   "source": [
    "root.tag"
   ]
  },
  {
   "cell_type": "code",
   "execution_count": 49,
   "metadata": {
    "collapsed": false
   },
   "outputs": [],
   "source": [
    "for url in e.findall('prism:url'):\n",
    "    print(url)"
   ]
  },
  {
   "cell_type": "code",
   "execution_count": 64,
   "metadata": {
    "collapsed": false
   },
   "outputs": [
    {
     "name": "stdout",
     "output_type": "stream",
     "text": [
      "<Element '{http://purl.org/dc/elements/1.1/}identifier' at 0x1201ef598>\n",
      "<Element 'eid' at 0x1201ef3b8>\n",
      "<Element '{http://prismstandard.org/namespaces/basic/2.0/}url' at 0x1201efef8>\n",
      "<Element 'link' at 0x1201eff48>\n",
      "<Element 'link' at 0x1201eff98>\n"
     ]
    }
   ],
   "source": [
    "for x in root[0]:\n",
    "    print(x)"
   ]
  },
  {
   "cell_type": "code",
   "execution_count": 72,
   "metadata": {
    "collapsed": false
   },
   "outputs": [
    {
     "data": {
      "text/plain": [
       "'https://www.scopus.com/authid/detail.url?partnerID=HzOxMe3b&authorId=57060814600&origin=inward'"
      ]
     },
     "execution_count": 72,
     "metadata": {},
     "output_type": "execute_result"
    }
   ],
   "source": [
    "root[0][3].attrib['href']"
   ]
  },
  {
   "cell_type": "code",
   "execution_count": 76,
   "metadata": {
    "collapsed": false
   },
   "outputs": [],
   "source": [
    "page = urllib.request.urlopen('https://www.google.com/#q=sf').read()"
   ]
  },
  {
   "cell_type": "code",
   "execution_count": 77,
   "metadata": {
    "collapsed": false
   },
   "outputs": [
    {
     "data": {
      "text/plain": [
       "b'<!doctype html><html itemscope=\"\" itemtype=\"http://schema.org/WebPage\" lang=\"en\"><head><meta content=\"Search the world\\'s information, including webpages, images, videos and more. Google has many special features to help you find exactly what you\\'re looking for.\" name=\"description\"><meta content=\"noodp\" name=\"robots\"><meta content=\"text/html; charset=UTF-8\" http-equiv=\"Content-Type\"><meta content=\"/logos/doodles/2016/lotte-reinigers-117th-birthday-5079873255112704-hp.gif\" itemprop=\"image\"><meta content=\"Lotte Reiniger&#8217;s 117th birthday! #GoogleDoodle\" property=\"og:description\"><meta content=\"http://www.google.com/logos/doodles/2016/lotte-reinigers-117th-birthday-5079873255112704.5-thp.png\" property=\"og:image\"><meta content=\"391\" property=\"og:image:width\"><meta content=\"220\" property=\"og:image:height\"><title>Google</title><script>(function(){window.google={kEI:\\'dtdPV8jyL8PWyQL0pa2YDg\\',kEXPI:\\'1350654,1350947,3700276,3700389,4028875,4029370,4029815,4031109,4032677,4036509,4036527,4038012,4039268,4043492,4045841,4048347,4052304,4054552,4056034,4056038,4057739,4058337,4059767,4061155,4061181,4061552,4061922,4062333,4062972,4062987,4063111,4063126,4063131,4063879,4063929,4063960,4064449,4064501,4064815,4064931,4065406,4065595,4065675,4065786,4065794,4065855,4065919,4066102,4066654,4066662,4066685,4066755,4066889,4066965,4066973,4067049,4067274,4067383,4067518,4067629,4067702,4067860,4067896,4067938,4068022,4068776,4068868,8300273,8502095,8503585,8504111,8504350,8504931,8505141,8505157,8505164,8505166,10200083,10201892\\',authuser:0,kscs:\\'c9c918f0_24\\'};google.kHL=\\'en\\';})();(function(){google.lc=[];google.li=0;google.getEI=function(a){for(var b;a&&(!a.getAttribute||!(b=a.getAttribute(\"eid\")));)a=a.parentNode;return b||google.kEI};google.getLEI=function(a){for(var b=null;a&&(!a.getAttribute||!(b=a.getAttribute(\"leid\")));)a=a.parentNode;return b};google.https=function(){return\"https:\"==window.location.protocol};google.ml=function(){return null};google.wl=function(a,b){try{google.ml(Error(a),!1,b)}catch(c){}};google.time=function(){return(new Date).getTime()};google.log=function(a,b,c,e,g){a=google.logUrl(a,b,c,e,g);if(\"\"!=a){b=new Image;var d=google.lc,f=google.li;d[f]=b;b.onerror=b.onload=b.onabort=function(){delete d[f]};window.google&&window.google.vel&&window.google.vel.lu&&window.google.vel.lu(a);b.src=a;google.li=f+1}};google.logUrl=function(a,b,c,e,g){var d=\"\",f=google.ls||\"\";if(!c&&-1==b.search(\"&ei=\")){var h=google.getEI(e),d=\"&ei=\"+h;-1==b.search(\"&lei=\")&&((e=google.getLEI(e))?d+=\"&lei=\"+e:h!=google.kEI&&(d+=\"&lei=\"+google.kEI))}a=c||\"/\"+(g||\"gen_204\")+\"?atyp=i&ct=\"+a+\"&cad=\"+b+d+f+\"&zx=\"+google.time();/^http:/i.test(a)&&google.https()&&(google.ml(Error(\"a\"),!1,{src:a,glmm:1}),a=\"\");return a};google.y={};google.x=function(a,b){google.y[a.id]=[a,b];return!1};google.load=function(a,b,c){google.x({id:a+k++},function(){google.load(a,b,c)})};var k=0;})();var _gjwl=location;function _gjuc(){var a=_gjwl.href.indexOf(\"#\");if(0<=a&&(a=_gjwl.href.substring(a),0<a.indexOf(\"&q=\")||0<=a.indexOf(\"#q=\"))&&(a=a.substring(1),-1==a.indexOf(\"#\"))){for(var d=0;d<a.length;){var b=d;\"&\"==a.charAt(b)&&++b;var c=a.indexOf(\"&\",b);-1==c&&(c=a.length);b=a.substring(b,c);if(0==b.indexOf(\"fp=\"))a=a.substring(0,d)+a.substring(c,a.length),c=d;else if(\"cad=h\"==b)return 0;d=c}_gjwl.href=\"/search?\"+a+\"&cad=h\";return 1}return 0}\\nfunction _gjh(){!_gjuc()&&window.google&&google.x&&google.x({id:\"GJH\"},function(){google.nav&&google.nav.gjh&&google.nav.gjh()})};window._gjh&&_gjh();</script><style>#gbar,#guser{font-size:13px;padding-top:1px !important;}#gbar{height:22px}#guser{padding-bottom:7px !important;text-align:right}.gbh,.gbd{border-top:1px solid #c9d7f1;font-size:1px}.gbh{height:0;position:absolute;top:24px;width:100%}@media all{.gb1{height:22px;margin-right:.5em;vertical-align:top}#gbar{float:left}}a.gb1,a.gb4{text-decoration:underline !important}a.gb1,a.gb4{color:#00c !important}.gbi .gb4{color:#dd8e27 !important}.gbf .gb4{color:#900 !important}\\n</style><style>body,td,a,p,.h{font-family:arial,sans-serif}body{margin:0;overflow-y:scroll}#gog{padding:3px 8px 0}td{line-height:.8em}.gac_m td{line-height:17px}form{margin-bottom:20px}.h{color:#36c}.q{color:#00c}.ts td{padding:0}.ts{border-collapse:collapse}em{font-weight:bold;font-style:normal}.lst{height:25px;width:496px}.gsfi,.lst{font:18px arial,sans-serif}.gsfs{font:17px arial,sans-serif}.ds{display:inline-box;display:inline-block;margin:3px 0 4px;margin-left:4px}input{font-family:inherit}a.gb1,a.gb2,a.gb3,a.gb4{color:#11c !important}body{background:#fff;color:black}a{color:#11c;text-decoration:none}a:hover,a:active{text-decoration:underline}.fl a{color:#36c}a:visited{color:#551a8b}a.gb1,a.gb4{text-decoration:underline}a.gb3:hover{text-decoration:none}#ghead a.gb2:hover{color:#fff !important}.sblc{padding-top:5px}.sblc a{display:block;margin:2px 0;margin-left:13px;font-size:11px}.lsbb{background:#eee;border:solid 1px;border-color:#ccc #999 #999 #ccc;height:30px}.lsbb{display:block}.ftl,#fll a{display:inline-block;margin:0 12px}.lsb{background:url(/images/nav_logo229.png) 0 -261px repeat-x;border:none;color:#000;cursor:pointer;height:30px;margin:0;outline:0;font:15px arial,sans-serif;vertical-align:top}.lsb:active{background:#ccc}.lst:focus{outline:none}</style><script></script><link href=\"/images/branding/product/ico/googleg_lodp.ico\" rel=\"shortcut icon\"></head><body bgcolor=\"#fff\"><script>(function(){var src=\\'/images/nav_logo229.png\\';var iesg=false;document.body.onload = function(){window.n && window.n();if (document.images){new Image().src=src;}\\nif (!iesg){document.f&&document.f.q.focus();document.gbqf&&document.gbqf.q.focus();}\\n}\\n})();</script><div id=\"mngb\">    <div id=gbar><nobr><b class=gb1>Search</b> <a class=gb1 href=\"https://www.google.com/imghp?hl=en&tab=wi\">Images</a> <a class=gb1 href=\"https://maps.google.com/maps?hl=en&tab=wl\">Maps</a> <a class=gb1 href=\"https://play.google.com/?hl=en&tab=w8\">Play</a> <a class=gb1 href=\"https://www.youtube.com/?tab=w1\">YouTube</a> <a class=gb1 href=\"https://news.google.com/nwshp?hl=en&tab=wn\">News</a> <a class=gb1 href=\"https://mail.google.com/mail/?tab=wm\">Gmail</a> <a class=gb1 href=\"https://drive.google.com/?tab=wo\">Drive</a> <a class=gb1 style=\"text-decoration:none\" href=\"https://www.google.com/intl/en/options/\"><u>More</u> &raquo;</a></nobr></div><div id=guser width=100%><nobr><span id=gbn class=gbi></span><span id=gbf class=gbf></span><span id=gbe></span><a href=\"http://www.google.com/history/optout?hl=en\" class=gb4>Web History</a> | <a  href=\"/preferences?hl=en\" class=gb4>Settings</a> | <a target=_top id=gb_70 href=\"https://accounts.google.com/ServiceLogin?hl=en&passive=true&continue=https://www.google.com/\" class=gb4>Sign in</a></nobr></div><div class=gbh style=left:0></div><div class=gbh style=right:0></div>    </div><center><br clear=\"all\" id=\"lgpd\"><div id=\"lga\"><a href=\"/search?site=&amp;ie=UTF-8&amp;q=Lotte+Reiniger&amp;oi=ddle&amp;ct=lotte-reinigers-117th-birthday-5079873255112704-hp&amp;hl=en&amp;sa=X&amp;ved=0ahUKEwjIheHL4IjNAhVDa1IKHfRSC-MQPQgD\"><img alt=\"Lotte Reiniger&#8217;s 117th birthday\" border=\"0\" height=\"220\" src=\"/logos/doodles/2016/lotte-reinigers-117th-birthday-5079873255112704-hp.gif\" title=\"Lotte Reiniger&#8217;s 117th birthday\" width=\"391\" id=\"hplogo\" onload=\"window.lol&&lol()\"><br></a><br></div><form action=\"/search\" name=\"f\"><table cellpadding=\"0\" cellspacing=\"0\"><tr valign=\"top\"><td width=\"25%\">&nbsp;</td><td align=\"center\" nowrap=\"\"><input name=\"ie\" value=\"ISO-8859-1\" type=\"hidden\"><input value=\"en\" name=\"hl\" type=\"hidden\"><input name=\"source\" type=\"hidden\" value=\"hp\"><input name=\"biw\" type=\"hidden\"><input name=\"bih\" type=\"hidden\"><div class=\"ds\" style=\"height:32px;margin:4px 0\"><input style=\"color:#000;margin:0;padding:5px 8px 0 6px;vertical-align:top\" autocomplete=\"off\" class=\"lst\" value=\"\" title=\"Google Search\" maxlength=\"2048\" name=\"q\" size=\"57\"></div><br style=\"line-height:0\"><span class=\"ds\"><span class=\"lsbb\"><input class=\"lsb\" value=\"Google Search\" name=\"btnG\" type=\"submit\"></span></span><span class=\"ds\"><span class=\"lsbb\"><input class=\"lsb\" value=\"I\\'m Feeling Lucky\" name=\"btnI\" onclick=\"if(this.form.q.value)this.checked=1; else top.location=\\'/doodles/\\'\" type=\"submit\"></span></span></td><td class=\"fl sblc\" align=\"left\" nowrap=\"\" width=\"25%\"><a href=\"/advanced_search?hl=en&amp;authuser=0\">Advanced search</a><a href=\"/language_tools?hl=en&amp;authuser=0\">Language tools</a></td></tr></table><input id=\"gbv\" name=\"gbv\" type=\"hidden\" value=\"1\"></form><div id=\"gac_scont\"></div><div style=\"font-size:83%;min-height:3.5em\"><br><div id=\"prm\"><style>.szppmdbYutt__middle-slot-promo{font-size:small;margin-bottom:32px}.szppmdbYutt__middle-slot-promo a._uFi{display:inline-block;text-decoration:none}.szppmdbYutt__middle-slot-promo img{border:none;margin-right:5px;vertical-align:middle}.szppmdbYutt__middle-slot-promo ._vFi{color:red}</style><div class=\"szppmdbYutt__middle-slot-promo r-i_3sSuT6ae4A\" jsl=\"$t t-Gza07Ho9En4;$x 0;\" data-ved=\"0ahUKEwjIheHL4IjNAhVDa1IKHfRSC-MQnIcBCAQ\"><a class=\"_XIi\" href=\"https://www.google.com/url?q=https://www.youtube.com/watch%3Fv%3DMK1P6RGs6U4%26feature%3Dyoutu.be&amp;source=hpp&amp;id=5084921&amp;ct=3&amp;usg=AFQjCNH7r1yZCwYWkRoASkiJyDYWbw7sAw&amp;sa=X&amp;ved=0ahUKEwjIheHL4IjNAhVDa1IKHfRSC-MQ8IcBCAU\" rel=\"nofollow\">Watch how today&#8217;s doodle was made</a></div></div></div><span id=\"footer\"><div style=\"font-size:10pt\"><div style=\"margin:19px auto;text-align:center\" id=\"fll\"><a href=\"/intl/en/ads/\">Advertising\\xa0Programs</a><a href=\"/services/\">Business Solutions</a><a href=\"https://plus.google.com/116899029375914044550\" rel=\"publisher\">+Google</a><a href=\"/intl/en/about.html\">About Google</a></div></div><p style=\"color:#767676;font-size:8pt\">&copy; 2016 - <a href=\"/intl/en/policies/privacy/\">Privacy</a> - <a href=\"/intl/en/policies/terms/\">Terms</a></p></span></center><script>(function(){window.google.cdo={height:0,width:0};(function(){var a=window.innerWidth,b=window.innerHeight;if(!a||!b)var c=window.document,d=\"CSS1Compat\"==c.compatMode?c.documentElement:c.body,a=d.clientWidth,b=d.clientHeight;a&&b&&(a!=google.cdo.width||b!=google.cdo.height)&&google.log(\"\",\"\",\"/client_204?&atyp=i&biw=\"+a+\"&bih=\"+b+\"&ei=\"+google.kEI);})();})();</script><div id=\"xjsd\"></div><div id=\"xjsi\"><script>(function(){function c(b){window.setTimeout(function(){var a=document.createElement(\"script\");a.src=b;document.getElementById(\"xjsd\").appendChild(a)},0)}google.dljp=function(b,a){google.xjsu=b;c(a)};google.dlj=c;})();(function(){window.google.xjsrm=[\\'mids\\'];})();if(google.y)google.y.first=[];if(!google.xjs){window._=window._||{};window._._DumpException=function(e){throw e};if(google.timers&&google.timers.load.t){google.timers.load.t.xjsls=new Date().getTime();}google.dljp(\\'/xjs/_/js/k\\\\x3dxjs.hp.en_US.pAiJCROIPXo.O/m\\\\x3dsb_he,d/rt\\\\x3dj/d\\\\x3d1/t\\\\x3dzcms/rs\\\\x3dACT90oGLsUyAMx4Wcdl3ttpvKEobkIQ6lQ\\',\\'/xjs/_/js/k\\\\x3dxjs.hp.en_US.pAiJCROIPXo.O/m\\\\x3dsb_he,d/rt\\\\x3dj/d\\\\x3d1/t\\\\x3dzcms/rs\\\\x3dACT90oGLsUyAMx4Wcdl3ttpvKEobkIQ6lQ\\');google.xjs=1;}google.pmc={\"sb_he\":{\"agen\":true,\"cgen\":true,\"client\":\"heirloom-hp\",\"dh\":true,\"dhqt\":true,\"ds\":\"\",\"fl\":true,\"host\":\"google.com\",\"isbh\":28,\"jam\":0,\"jsonp\":true,\"msgs\":{\"cibl\":\"Clear Search\",\"dym\":\"Did you mean:\",\"lcky\":\"I\\\\u0026#39;m Feeling Lucky\",\"lml\":\"Learn more\",\"oskt\":\"Input tools\",\"psrc\":\"This search was removed from your \\\\u003Ca href=\\\\\"/history\\\\\"\\\\u003EWeb History\\\\u003C/a\\\\u003E\",\"psrl\":\"Remove\",\"sbit\":\"Search by image\",\"srch\":\"Google Search\"},\"ovr\":{},\"pq\":\"\",\"refpd\":true,\"rfs\":[],\"scd\":10,\"sce\":5,\"stok\":\"JNUFIX71O4LQUBRgtvD-16IyNlA\"},\"d\":{}};google.y.first.push(function(){if(google.med){google.med(\\'init\\');google.initHistory();google.med(\\'history\\');}});if(google.j&&google.j.en&&google.j.xi){window.setTimeout(google.j.xi,0);}\\n</script></div></body></html>'"
      ]
     },
     "execution_count": 77,
     "metadata": {},
     "output_type": "execute_result"
    }
   ],
   "source": [
    "page"
   ]
  },
  {
   "cell_type": "code",
   "execution_count": null,
   "metadata": {
    "collapsed": true
   },
   "outputs": [],
   "source": []
  }
 ],
 "metadata": {
  "kernelspec": {
   "display_name": "Python 3",
   "language": "python",
   "name": "python3"
  },
  "language_info": {
   "codemirror_mode": {
    "name": "ipython",
    "version": 3
   },
   "file_extension": ".py",
   "mimetype": "text/x-python",
   "name": "python",
   "nbconvert_exporter": "python",
   "pygments_lexer": "ipython3",
   "version": "3.5.0"
  }
 },
 "nbformat": 4,
 "nbformat_minor": 0
}
